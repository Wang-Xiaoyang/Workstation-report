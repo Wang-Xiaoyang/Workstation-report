{
 "cells": [
  {
   "cell_type": "markdown",
   "metadata": {},
   "source": [
    "Take Gamma (ip: 10.70.26.62) for example, firstly SSH to the workstation. At the meantime, forwarding the local port 8000 to the remote port 8888:"
   ]
  },
  {
   "cell_type": "code",
   "execution_count": null,
   "metadata": {},
   "outputs": [],
   "source": [
    "ssh -L localhost:8000:localhost:8888 username@10.70.26.62\n",
    "# 8888 is the default port for jupyter notebook\n",
    "# To avoiding any conflicts with the local notebook, forward any port except for 8888 (here we forword 8000)"
   ]
  },
  {
   "cell_type": "markdown",
   "metadata": {},
   "source": [
    "Launch the image 'nvcr.io/nvidia/tensorflow:18.12-py3-jupyter', while forwarding the workstation port 8888 to the docker port 8888: "
   ]
  },
  {
   "cell_type": "code",
   "execution_count": null,
   "metadata": {},
   "outputs": [],
   "source": [
    "sudo nvidia-docker run --rm -it -p 8888:8888 nvcr.io/nvidia/tensorflow:18.12-py3-jupyter"
   ]
  },
  {
   "cell_type": "markdown",
   "metadata": {},
   "source": [
    "Launch the jupyter notebook inside the docker"
   ]
  },
  {
   "cell_type": "code",
   "execution_count": null,
   "metadata": {},
   "outputs": [],
   "source": [
    "jupyter notebook --ip=0.0.0.0 --allow-root\n",
    "# without '--ip=x.x.x.x' the notebook won't work\n",
    "# --allow-root: allow running as root"
   ]
  },
  {
   "cell_type": "markdown",
   "metadata": {},
   "source": [
    "We'll see something like:"
   ]
  },
  {
   "cell_type": "code",
   "execution_count": null,
   "metadata": {},
   "outputs": [],
   "source": [
    "[I 17:55:49.637 NotebookApp] Serving notebooks from local directory: /workspace\n",
    "[I 17:55:49.637 NotebookApp] The Jupyter Notebook is running at:\n",
    "[I 17:55:49.637 NotebookApp] http://(9c29d0cdba62 or 127.0.0.1):8888/?token=f4b3dfeb7a2148b73713811e9c62d2456d9b5d5718f8d4ae\n",
    "[I 17:55:49.638 NotebookApp] Use Control-C to stop this server and shut down all kernels (twice to skip confirmation).\n",
    "[W 17:55:49.640 NotebookApp] No web browser found: could not locate runnable browser.\n",
    "[C 17:55:49.640 NotebookApp] \n",
    "    \n",
    "    To access the notebook, open this file in a browser:\n",
    "        file:///root/.local/share/jupyter/runtime/nbserver-47-open.html\n",
    "    Or copy and paste one of these URLs:\n",
    "        http://(9c29d0cdba62 or 127.0.0.1):8888/?token=f4b3dfeb7a2148b73713811e9c62d2456d9b5d5718f8d4ae\n",
    "[I 17:59:28.235 NotebookApp] 302 GET / (172.17.0.1) 1.65ms\n",
    "[I 17:59:28.242 NotebookApp] 302 GET /tree? (172.17.0.1) 0.40ms"
   ]
  },
  {
   "cell_type": "markdown",
   "metadata": {},
   "source": [
    "Open the browser and enter"
   ]
  },
  {
   "cell_type": "code",
   "execution_count": null,
   "metadata": {},
   "outputs": [],
   "source": [
    "http://localhost:8000 # the local port forwarded through ssh"
   ]
  },
  {
   "cell_type": "markdown",
   "metadata": {},
   "source": [
    "Enter the token shown in the terminal. Enjoy!"
   ]
  }
 ],
 "metadata": {
  "kernelspec": {
   "display_name": "Python 3",
   "language": "python",
   "name": "python3"
  },
  "language_info": {
   "codemirror_mode": {
    "name": "ipython",
    "version": 3
   },
   "file_extension": ".py",
   "mimetype": "text/x-python",
   "name": "python",
   "nbconvert_exporter": "python",
   "pygments_lexer": "ipython3",
   "version": "3.7.4"
  }
 },
 "nbformat": 4,
 "nbformat_minor": 2
}
